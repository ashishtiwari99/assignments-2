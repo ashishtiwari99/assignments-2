{
 "cells": [
  {
   "cell_type": "code",
   "execution_count": 1,
   "id": "5498e686-6eb8-4129-9487-0d401bdc32ab",
   "metadata": {},
   "outputs": [],
   "source": [
    "\n",
    "\n",
    "#single line comment exaple\n",
    "\n",
    "#print(\"hello word)"
   ]
  },
  {
   "cell_type": "code",
   "execution_count": 2,
   "id": "859f49ec-837d-46bf-a64a-1d8ae242f0af",
   "metadata": {},
   "outputs": [
    {
     "data": {
      "text/plain": [
       "\"\\nmulti line comment example\\nthis is my omment\\nmy name is ashu\\ni'm belong to u.p\\n             \""
      ]
     },
     "execution_count": 2,
     "metadata": {},
     "output_type": "execute_result"
    }
   ],
   "source": [
    "\"\"\"\n",
    "multi line comment example\n",
    "this is my omment\n",
    "my name is ashu\n",
    "i'm belong to u.p\n",
    "             \"\"\"   "
   ]
  },
  {
   "cell_type": "code",
   "execution_count": 3,
   "id": "bfa5d5e6-ecc4-4151-8f9b-18903c7e7a42",
   "metadata": {},
   "outputs": [
    {
     "name": "stdout",
     "output_type": "stream",
     "text": [
      "100\n"
     ]
    }
   ],
   "source": [
    "\n",
    "age_ = 100\n",
    "print(age_)"
   ]
  },
  {
   "cell_type": "code",
   "execution_count": 4,
   "id": "aaccb56b-daec-422d-ae5b-30d2c0101e41",
   "metadata": {},
   "outputs": [
    {
     "name": "stdout",
     "output_type": "stream",
     "text": [
      "string converted to float :  1234.0\n"
     ]
    }
   ],
   "source": [
    "s = \"1234\"\n",
    "c = float(s)\n",
    "print('string converted to float : ' , c)"
   ]
  },
  {
   "cell_type": "code",
   "execution_count": null,
   "id": "19dd6056-b605-439e-8cfa-f7a18bda27ab",
   "metadata": {},
   "outputs": [],
   "source": []
  },
  {
   "cell_type": "code",
   "execution_count": 6,
   "id": "3d71fe47-2cc8-4b2d-a808-dbd955ff85f0",
   "metadata": {},
   "outputs": [
    {
     "name": "stdout",
     "output_type": "stream",
     "text": [
      "[3]\n"
     ]
    }
   ],
   "source": [
    "my_list = [1,2,3,4,5]\n",
    "print(my_list[2:3])"
   ]
  },
  {
   "cell_type": "code",
   "execution_count": 7,
   "id": "03f71d93-0cf3-454a-8d92-4a3addf2dbf1",
   "metadata": {},
   "outputs": [
    {
     "name": "stdout",
     "output_type": "stream",
     "text": [
      "output: (5+7j)\n"
     ]
    }
   ],
   "source": [
    "z = complex(5,7)\n",
    "print(\"output:\",z)"
   ]
  },
  {
   "cell_type": "code",
   "execution_count": 8,
   "id": "79b9eafc-c5ae-481c-8f8b-9314e9ba7f12",
   "metadata": {},
   "outputs": [
    {
     "name": "stdout",
     "output_type": "stream",
     "text": [
      "25\n"
     ]
    }
   ],
   "source": [
    "age = int(25)\n",
    "print(age)"
   ]
  },
  {
   "cell_type": "code",
   "execution_count": 9,
   "id": "f4c60172-901c-4dbb-b525-29fa1c7f13bc",
   "metadata": {},
   "outputs": [
    {
     "name": "stdout",
     "output_type": "stream",
     "text": [
      "<class 'int'>\n"
     ]
    }
   ],
   "source": [
    "print(type(age))"
   ]
  },
  {
   "cell_type": "code",
   "execution_count": 10,
   "id": "b345a4c2-8d83-4c96-b7c3-1768888034cd",
   "metadata": {},
   "outputs": [
    {
     "name": "stdout",
     "output_type": "stream",
     "text": [
      "<class 'float'>\n"
     ]
    }
   ],
   "source": [
    "price = 9.99\n",
    "print(type(price))"
   ]
  },
  {
   "cell_type": "code",
   "execution_count": 11,
   "id": "22624d56-606b-4030-bda4-3050148b1450",
   "metadata": {},
   "outputs": [
    {
     "name": "stdout",
     "output_type": "stream",
     "text": [
      "ashish\n"
     ]
    }
   ],
   "source": [
    "name = \"ashish\"\n",
    "print(name)"
   ]
  },
  {
   "cell_type": "code",
   "execution_count": 12,
   "id": "fb395f49-68b5-4a48-ac7b-a202b4a50ddb",
   "metadata": {},
   "outputs": [
    {
     "data": {
      "text/plain": [
       "'World'"
      ]
     },
     "execution_count": 12,
     "metadata": {},
     "output_type": "execute_result"
    }
   ],
   "source": [
    " string = \"Hello, World\"\n",
    " string[7:12:1]"
   ]
  },
  {
   "cell_type": "code",
   "execution_count": 12,
   "id": "3470107f-866d-49eb-85e8-a41460f111bc",
   "metadata": {},
   "outputs": [
    {
     "name": "stdout",
     "output_type": "stream",
     "text": [
      "True\n"
     ]
    }
   ],
   "source": [
    "is_student = True\n",
    "print(is_student)"
   ]
  },
  {
   "cell_type": "code",
   "execution_count": null,
   "id": "08d2ce33-fe96-4b50-acb0-74578e11f433",
   "metadata": {},
   "outputs": [],
   "source": []
  }
 ],
 "metadata": {
  "kernelspec": {
   "display_name": "Python 3 (ipykernel)",
   "language": "python",
   "name": "python3"
  },
  "language_info": {
   "codemirror_mode": {
    "name": "ipython",
    "version": 3
   },
   "file_extension": ".py",
   "mimetype": "text/x-python",
   "name": "python",
   "nbconvert_exporter": "python",
   "pygments_lexer": "ipython3",
   "version": "3.10.8"
  }
 },
 "nbformat": 4,
 "nbformat_minor": 5
}
